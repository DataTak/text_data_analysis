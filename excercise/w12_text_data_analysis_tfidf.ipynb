{
  "cells": [
    {
      "cell_type": "markdown",
      "metadata": {
        "id": "view-in-github",
        "colab_type": "text"
      },
      "source": [
        "<a href=\"https://colab.research.google.com/github/DataTak/text_data_analysis/blob/main/excercise/w12_text_data_analysis_tfidf.ipynb\" target=\"_parent\"><img src=\"https://colab.research.google.com/assets/colab-badge.svg\" alt=\"Open In Colab\"/></a>"
      ]
    },
    {
      "cell_type": "code",
      "source": [
        "!pip install konlpy"
      ],
      "metadata": {
        "colab": {
          "base_uri": "https://localhost:8080/"
        },
        "id": "v4wGsD-VrdK9",
        "outputId": "71dca3c5-72ce-4041-b683-88e9af7ea013"
      },
      "execution_count": 1,
      "outputs": [
        {
          "output_type": "stream",
          "name": "stdout",
          "text": [
            "Collecting konlpy\n",
            "  Downloading konlpy-0.6.0-py2.py3-none-any.whl.metadata (1.9 kB)\n",
            "Collecting JPype1>=0.7.0 (from konlpy)\n",
            "  Downloading JPype1-1.5.0-cp310-cp310-manylinux_2_17_x86_64.manylinux2014_x86_64.whl.metadata (4.9 kB)\n",
            "Requirement already satisfied: lxml>=4.1.0 in /usr/local/lib/python3.10/dist-packages (from konlpy) (4.9.4)\n",
            "Requirement already satisfied: numpy>=1.6 in /usr/local/lib/python3.10/dist-packages (from konlpy) (1.26.4)\n",
            "Requirement already satisfied: packaging in /usr/local/lib/python3.10/dist-packages (from JPype1>=0.7.0->konlpy) (24.1)\n",
            "Downloading konlpy-0.6.0-py2.py3-none-any.whl (19.4 MB)\n",
            "\u001b[2K   \u001b[90m━━━━━━━━━━━━━━━━━━━━━━━━━━━━━━━━━━━━━━━━\u001b[0m \u001b[32m19.4/19.4 MB\u001b[0m \u001b[31m25.1 MB/s\u001b[0m eta \u001b[36m0:00:00\u001b[0m\n",
            "\u001b[?25hDownloading JPype1-1.5.0-cp310-cp310-manylinux_2_17_x86_64.manylinux2014_x86_64.whl (488 kB)\n",
            "\u001b[2K   \u001b[90m━━━━━━━━━━━━━━━━━━━━━━━━━━━━━━━━━━━━━━━━\u001b[0m \u001b[32m488.6/488.6 kB\u001b[0m \u001b[31m16.2 MB/s\u001b[0m eta \u001b[36m0:00:00\u001b[0m\n",
            "\u001b[?25hInstalling collected packages: JPype1, konlpy\n",
            "Successfully installed JPype1-1.5.0 konlpy-0.6.0\n"
          ]
        }
      ]
    },
    {
      "cell_type": "markdown",
      "metadata": {
        "id": "suDQ_6iO9fwJ"
      },
      "source": [
        "<br>\n",
        "<br>\n",
        "\n",
        "# Bag-of-Words"
      ]
    },
    {
      "cell_type": "code",
      "execution_count": 4,
      "metadata": {
        "id": "CDELvci49fwK",
        "outputId": "acc0d7ae-2347-4ab3-cf71-85aea71cc298",
        "colab": {
          "base_uri": "https://localhost:8080/"
        }
      },
      "outputs": [
        {
          "output_type": "stream",
          "name": "stdout",
          "text": [
            "['나', '의', '살던', '고향', '은', '꽃', '피는', '산골']\n"
          ]
        }
      ],
      "source": [
        "from konlpy.tag import Okt\n",
        "\n",
        "#OKT 인스턴스 생성\n",
        "tokenizer = Okt()\n",
        "\n",
        "#분석할 문장\n",
        "text = \"나의 살던 고향은 꽃피는 산골\"\n",
        "\n",
        "#형태소 분석(형태소 기준으로 쪼개어라!)\n",
        "tokens = tokenizer.morphs(text)\n",
        "\n",
        "print(tokens)"
      ]
    },
    {
      "cell_type": "code",
      "execution_count": 5,
      "metadata": {
        "id": "rlETyDP49fwL",
        "outputId": "5b9ed034-a5a7-4c7e-e561-05bc0b9a842b",
        "colab": {
          "base_uri": "https://localhost:8080/"
        }
      },
      "outputs": [
        {
          "output_type": "stream",
          "name": "stdout",
          "text": [
            "{'나': 0, '의': 1, '살던': 2, '고향': 3, '은': 4, '꽃': 5, '피는': 6, '산골': 7}\n"
          ]
        }
      ],
      "source": [
        "# 단어-인덱스 딕셔너리(키와 벨류로 정해졌음.)\n",
        "word_to_index = {}\n",
        "\n",
        "# 토큰을 인덱스로 변환\n",
        "for token in tokens:\n",
        "    if token not in word_to_index.keys():\n",
        "        word_to_index[token] = len(word_to_index)\n",
        "\n",
        "print(word_to_index)"
      ]
    },
    {
      "cell_type": "code",
      "execution_count": 6,
      "metadata": {
        "id": "u8BAu_YS9fwL"
      },
      "outputs": [],
      "source": [
        "# BoW로 변환\n",
        "def convert_bow(sentence, word_to_index):\n",
        "\n",
        "    # 벡터를 단어의 개수만큼 0으로 초기화\n",
        "    vector = [0]*(len(word_to_index))\n",
        "\n",
        "    # 문장을 토큰으로 분리\n",
        "    tokenizer = Okt()\n",
        "    tokens = tokenizer.morphs(sentence)\n",
        "\n",
        "    # 단어의 인덱스 위치에 1 설정\n",
        "    for token in tokens:\n",
        "        if token in word_to_index.keys():\n",
        "            vector[word_to_index[token]] += 1\n",
        "\n",
        "    return vector"
      ]
    },
    {
      "cell_type": "code",
      "source": [
        "print(word_to_index)"
      ],
      "metadata": {
        "colab": {
          "base_uri": "https://localhost:8080/"
        },
        "id": "Je5Os0U9Zxsq",
        "outputId": "dc2eb75f-6568-4c8e-c036-325362819ac8"
      },
      "execution_count": 7,
      "outputs": [
        {
          "output_type": "stream",
          "name": "stdout",
          "text": [
            "{'나': 0, '의': 1, '살던': 2, '고향': 3, '은': 4, '꽃': 5, '피는': 6, '산골': 7}\n"
          ]
        }
      ]
    },
    {
      "cell_type": "code",
      "execution_count": 8,
      "metadata": {
        "id": "6tDJmbzn9fwM",
        "outputId": "904c1017-0d6a-40de-8a47-9c3d2beaac18",
        "colab": {
          "base_uri": "https://localhost:8080/"
        }
      },
      "outputs": [
        {
          "output_type": "execute_result",
          "data": {
            "text/plain": [
              "[0, 0, 0, 0, 0, 2, 0, 0]"
            ]
          },
          "metadata": {},
          "execution_count": 8
        }
      ],
      "source": [
        "convert_bow(\"복숭아 꽃 살구 꽃 아기 진달래\", word_to_index)"
      ]
    },
    {
      "cell_type": "code",
      "execution_count": 9,
      "metadata": {
        "id": "ASWoy5T69fwM",
        "outputId": "a836cfb9-5b95-43b6-a918-89a563e2dbe6",
        "colab": {
          "base_uri": "https://localhost:8080/"
        }
      },
      "outputs": [
        {
          "output_type": "execute_result",
          "data": {
            "text/plain": [
              "[1, 1, 0, 1, 1, 0, 0, 1]"
            ]
          },
          "metadata": {},
          "execution_count": 9
        }
      ],
      "source": [
        "convert_bow(\"나의 고향은 산골입니다.\", word_to_index)"
      ]
    },
    {
      "cell_type": "markdown",
      "metadata": {
        "id": "v4qqOY-o9fwP"
      },
      "source": [
        "<br>\n",
        "<br>\n",
        "\n",
        "# TF-IDF"
      ]
    },
    {
      "cell_type": "code",
      "source": [
        "from sklearn.feature_extraction.text import TfidfVectorizer\n",
        "\n",
        "documents = [\n",
        "    '나의 살던 고향은 꽃 피는 산골',\n",
        "    '복숭아 꽃 살구 꽃 아기 진달래',\n",
        "    '울긋불긋 꽃 대궐 차리인 동네',\n",
        "    '그 속에서 놀던 때가 그립습니다'\n",
        "]\n",
        "\n",
        "# TF-IDF로 벡터화\n",
        "# 1글자도 인식이 되도록 토큰 패턴 변경\n",
        "tf_idf = TfidfVectorizer(token_pattern = r\"(?u)\\b\\w+\\b\")\n",
        "tf_idf.fit(documents)\n",
        "\n",
        "print(tf_idf.vocabulary_)"
      ],
      "metadata": {
        "colab": {
          "base_uri": "https://localhost:8080/"
        },
        "id": "wB29cT64Wf6n",
        "outputId": "8b26af44-6a89-4c19-a7f1-20a7b20ee0a1"
      },
      "execution_count": 10,
      "outputs": [
        {
          "output_type": "stream",
          "name": "stdout",
          "text": [
            "{'나의': 4, '살던': 12, '고향은': 0, '꽃': 3, '피는': 18, '산골': 10, '복숭아': 9, '살구': 11, '아기': 14, '진달래': 16, '울긋불긋': 15, '대궐': 6, '차리인': 17, '동네': 7, '그': 1, '속에서': 13, '놀던': 5, '때가': 8, '그립습니다': 2}\n"
          ]
        }
      ]
    },
    {
      "cell_type": "code",
      "source": [
        "tf_idf_dict = {v:k for k,v in tf_idf.vocabulary_.items()}"
      ],
      "metadata": {
        "id": "bpX9n6xdXz4r"
      },
      "execution_count": 11,
      "outputs": []
    },
    {
      "cell_type": "code",
      "source": [
        "# 다른 문서에도 많이 나온 단어는 낮은 수치\n",
        "tf_idf.transform(['꽃 동네 새 동네 나의 옛고향']).toarray()"
      ],
      "metadata": {
        "colab": {
          "base_uri": "https://localhost:8080/"
        },
        "id": "UEVOT1DmWpdi",
        "outputId": "cabdac1c-4d02-428c-8b50-485ebf5e33dc"
      },
      "execution_count": 12,
      "outputs": [
        {
          "output_type": "execute_result",
          "data": {
            "text/plain": [
              "array([[0.        , 0.        , 0.        , 0.27448674, 0.43003652,\n",
              "        0.        , 0.        , 0.86007303, 0.        , 0.        ,\n",
              "        0.        , 0.        , 0.        , 0.        , 0.        ,\n",
              "        0.        , 0.        , 0.        , 0.        ]])"
            ]
          },
          "metadata": {},
          "execution_count": 12
        }
      ]
    },
    {
      "cell_type": "code",
      "source": [
        "tf_idf_dict[3], tf_idf_dict[4], tf_idf_dict[7]"
      ],
      "metadata": {
        "colab": {
          "base_uri": "https://localhost:8080/"
        },
        "id": "DER6jaRpYlCM",
        "outputId": "3d54a01e-c379-4392-c764-63eecdd0c951"
      },
      "execution_count": 13,
      "outputs": [
        {
          "output_type": "execute_result",
          "data": {
            "text/plain": [
              "('꽃', '나의', '동네')"
            ]
          },
          "metadata": {},
          "execution_count": 13
        }
      ]
    },
    {
      "cell_type": "code",
      "source": [
        "# 같은 문서에 많이 나온 단어는 높은 수치\n",
        "tf_idf.transform(['복숭아 같은 아기 얼굴, 진달래 같은 아기 얼굴']).toarray()"
      ],
      "metadata": {
        "colab": {
          "base_uri": "https://localhost:8080/"
        },
        "id": "HF5QRJOGW2c7",
        "outputId": "342c9ec0-ca27-4f6f-9ecd-4fd232e1dec8"
      },
      "execution_count": 14,
      "outputs": [
        {
          "output_type": "execute_result",
          "data": {
            "text/plain": [
              "array([[0.        , 0.        , 0.        , 0.        , 0.        ,\n",
              "        0.        , 0.        , 0.        , 0.        , 0.40824829,\n",
              "        0.        , 0.        , 0.        , 0.        , 0.81649658,\n",
              "        0.        , 0.40824829, 0.        , 0.        ]])"
            ]
          },
          "metadata": {},
          "execution_count": 14
        }
      ]
    },
    {
      "cell_type": "code",
      "source": [
        "tf_idf_dict[9], tf_idf_dict[14], tf_idf_dict[16]"
      ],
      "metadata": {
        "colab": {
          "base_uri": "https://localhost:8080/"
        },
        "id": "cNR5c_R-XXF-",
        "outputId": "80cb65be-5f68-469c-9296-917b7af2c4df"
      },
      "execution_count": 15,
      "outputs": [
        {
          "output_type": "execute_result",
          "data": {
            "text/plain": [
              "('복숭아', '아기', '진달래')"
            ]
          },
          "metadata": {},
          "execution_count": 15
        }
      ]
    },
    {
      "cell_type": "code",
      "source": [],
      "metadata": {
        "id": "nQogEOvbaSsl"
      },
      "execution_count": 15,
      "outputs": []
    }
  ],
  "metadata": {
    "kernelspec": {
      "display_name": "Python 3",
      "language": "python",
      "name": "python3"
    },
    "language_info": {
      "codemirror_mode": {
        "name": "ipython",
        "version": 3
      },
      "file_extension": ".py",
      "mimetype": "text/x-python",
      "name": "python",
      "nbconvert_exporter": "python",
      "pygments_lexer": "ipython3",
      "version": "3.7.6"
    },
    "toc": {
      "base_numbering": 1,
      "nav_menu": {},
      "number_sections": false,
      "sideBar": true,
      "skip_h1_title": false,
      "title_cell": "Table of Contents",
      "title_sidebar": "Contents",
      "toc_cell": false,
      "toc_position": {},
      "toc_section_display": true,
      "toc_window_display": false
    },
    "colab": {
      "provenance": [],
      "include_colab_link": true
    }
  },
  "nbformat": 4,
  "nbformat_minor": 0
}